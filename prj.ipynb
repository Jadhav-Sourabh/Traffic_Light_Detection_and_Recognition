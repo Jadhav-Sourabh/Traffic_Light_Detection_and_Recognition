{
 "cells": [
  {
   "cell_type": "markdown",
   "metadata": {},
   "source": [
    "---------------------------------"
   ]
  },
  {
   "cell_type": "markdown",
   "metadata": {},
   "source": [
    "# **Digital Image Processing & Computer Vision Project**"
   ]
  },
  {
   "cell_type": "markdown",
   "metadata": {},
   "source": [
    "# Traffic Light Detection & Recognition"
   ]
  },
  {
   "cell_type": "markdown",
   "metadata": {},
   "source": [
    "**Prepared By: Sourabh Vijay Jadhav (SE21MEEE007)**"
   ]
  },
  {
   "cell_type": "markdown",
   "metadata": {},
   "source": [
    "----------------------------------"
   ]
  },
  {
   "cell_type": "markdown",
   "metadata": {},
   "source": [
    "# Step 1: Importing the necessary libraries"
   ]
  },
  {
   "cell_type": "markdown",
   "metadata": {},
   "source": [
    "1) **OS**: The OS module in Python provides functions for creating and removing a directory (folder), fetching its contents, changing and identifying the current directory, etc.\n",
    "\n",
    "2) **cv2**: OpenCV (Open Source Computer Vision Library) is an open-source computer vision and machine learning software library. OpenCV is a huge open-source library for computer vision, machine learning, and image processing.\n",
    "\n",
    "3) **numpy**: is a Python library used for working with arrays. It also has functions for working in domain of linear algebra, fourier transform, and matrices."
   ]
  },
  {
   "cell_type": "code",
   "execution_count": 4,
   "metadata": {},
   "outputs": [],
   "source": [
    "import os\n",
    "import cv2\n",
    "import numpy as np"
   ]
  },
  {
   "cell_type": "markdown",
   "metadata": {},
   "source": [
    "----------------------------"
   ]
  },
  {
   "cell_type": "markdown",
   "metadata": {},
   "source": [
    "# Step 2: Defining the function to detect & recognize the traffic lights"
   ]
  },
  {
   "cell_type": "markdown",
   "metadata": {},
   "source": [
    "HSV (Hue, Saturation, Value) color space: It stores color information in a cylindrical representation of RGB color points. It attempts to depict the colors as perceived by the human eye. Hue value varies from 0-179, Saturation value varies from 0-255 and Value value varies from 0-255. It is mostly used for color segmentation purpose.\n",
    "\n",
    "-----------------------------------------------------------------------------------------------\n",
    "\n",
    "**Line 47-50** - hough circle detect function\n",
    "\n",
    "**cv.HoughCircles(image, method, dp, minDist[, circles[, param1[, param2[, minRadius[, maxRadius]]]]]\t) ->circles**\n",
    "\n",
    "\n",
    "**image**\t8-bit, single-channel, grayscale input image.\n",
    "\n",
    "\n",
    "**circles**\tOutput vector of found circles.\n",
    "\n",
    "**method**\tDetection method.\n",
    "\n",
    "**dp**\tInverse ratio of the accumulator resolution to the image resolution. For example, if dp=1 , the accumulator has the same resolution as the input image.\n",
    "\n",
    "**minDist**\tMinimum distance between the centers of the detected circles. If the parameter is too small, multiple neighbor circles may be falsely detected in addition to a true one. If it is too large, some circles may be missed.\n",
    "\n",
    "**param1**\tFirst method-specific parameter.\n",
    "\n",
    "**param2**\tSecond method-specific parameter.\n",
    "\n",
    "**minRadius**\tMinimum circle radius.\n",
    "\n",
    "**maxRadius**\tMaximum circle radius."
   ]
  },
  {
   "cell_type": "code",
   "execution_count": 5,
   "metadata": {},
   "outputs": [],
   "source": [
    "def detect(filepath, file):\n",
    "\n",
    "    # putText() method is used to draw a text string on any image.\n",
    "    font = cv2.FONT_HERSHEY_SIMPLEX\n",
    "\n",
    "    # reading the image from directly file path\n",
    "    img = cv2.imread(filepath+file)\n",
    "\n",
    "    # assigning the cimg variable to above image\n",
    "    # cimg variable is used to save the detected results\n",
    "    cimg = img\n",
    "\n",
    "    # as cv2 reads the image into BGR format, below line converts the BGR image to HSV line\n",
    "    hsv = cv2.cvtColor(img, cv2.COLOR_BGR2HSV)\n",
    "\n",
    "    # color range\n",
    "    # red color range\n",
    "    lower_red1 = np.array([0,100,100])\n",
    "    upper_red1 = np.array([10,255,255])\n",
    "    lower_red2 = np.array([160,100,100])\n",
    "    upper_red2 = np.array([180,255,255])\n",
    "\n",
    "    # green color range\n",
    "    lower_green = np.array([50,50,50])\n",
    "    upper_green = np.array([90,255,255])\n",
    "\n",
    "    # yellow color range\n",
    "    # lower_yellow = np.array([15,100,100])\n",
    "    # upper_yellow = np.array([35,255,255])\n",
    "    lower_yellow = np.array([15,150,150])\n",
    "    upper_yellow = np.array([35,255,255])\n",
    "\n",
    "    # mask for red \n",
    "    mask1 = cv2.inRange(hsv, lower_red1, upper_red1)\n",
    "    mask2 = cv2.inRange(hsv, lower_red2, upper_red2)\n",
    "    maskr = cv2.add(mask1, mask2)\n",
    "    #cv2.imshow(\"Red Mask\", maskr)\n",
    "\n",
    "    # mask for green\n",
    "    maskg = cv2.inRange(hsv, lower_green, upper_green)\n",
    "    #cv2.imshow(\"Green Mask\", maskg)\n",
    "\n",
    "    # mask for yellow\n",
    "    masky = cv2.inRange(hsv, lower_yellow, upper_yellow)\n",
    "    #cv2.imshow(\"Yellow Mask\", masky)\n",
    "\n",
    "    size = img.shape\n",
    "    #print('size of the image: ', size)\n",
    "\n",
    "    # hough circle detect\n",
    "    r_circles = cv2.HoughCircles(maskr, cv2.HOUGH_GRADIENT, 1, 80, param1=50, param2=10, minRadius=0, maxRadius=30)\n",
    "    g_circles = cv2.HoughCircles(maskg, cv2.HOUGH_GRADIENT, 1, 60, param1=50, param2=10, minRadius=0, maxRadius=30)\n",
    "    y_circles = cv2.HoughCircles(masky, cv2.HOUGH_GRADIENT, 1, 30, param1=50, param2=5, minRadius=0, maxRadius=30)\n",
    "\n",
    "    # traffic light detect\n",
    "    r = 5\n",
    "    bound = 4.0 / 10\n",
    "    if r_circles is not None:\n",
    "\n",
    "        # np.around: This mathematical function helps user to evenly \n",
    "        # round array elements to the given number of decimals.\n",
    "\n",
    "        # np.uint16: is a type object representing the type of array \n",
    "        # scalars of uint16 dtype.\n",
    "        r_circles = np.uint16(np.around(r_circles))\n",
    "\n",
    "        for i in r_circles[0, :]:\n",
    "            if i[0] > size[1] or i[1] > size[0]or i[1] > size[0]*bound:\n",
    "                continue\n",
    "\n",
    "            h, s = 0.0, 0.0\n",
    "            for m in range(-r, r):\n",
    "                for n in range(-r, r):\n",
    "\n",
    "                    if (i[1]+m) >= size[0] or (i[0]+n) >= size[1]:\n",
    "                        continue\n",
    "                    h += maskr[i[1]+m, i[0]+n]\n",
    "                    s += 1\n",
    "            if h / s > 50:\n",
    "                cv2.circle(cimg, (i[0], i[1]), i[2]+10, (0, 255, 0), 2)\n",
    "                cv2.circle(maskr, (i[0], i[1]), i[2]+30, (255, 255, 255), 2)\n",
    "                cv2.putText(cimg,'STOP',(i[0], i[1]), font, 1,(255,0,0),2,cv2.LINE_AA)\n",
    "\n",
    "    if g_circles is not None:\n",
    "        g_circles = np.uint16(np.around(g_circles))\n",
    "\n",
    "        for i in g_circles[0, :]:\n",
    "            if i[0] > size[1] or i[1] > size[0] or i[1] > size[0]*bound:\n",
    "                continue\n",
    "\n",
    "            h, s = 0.0, 0.0\n",
    "            for m in range(-r, r):\n",
    "                for n in range(-r, r):\n",
    "\n",
    "                    if (i[1]+m) >= size[0] or (i[0]+n) >= size[1]:\n",
    "                        continue\n",
    "                    h += maskg[i[1]+m, i[0]+n]\n",
    "                    s += 1\n",
    "            if h / s > 100:\n",
    "                cv2.circle(cimg, (i[0], i[1]), i[2]+10, (0, 255, 0), 2)\n",
    "                cv2.circle(maskg, (i[0], i[1]), i[2]+30, (255, 255, 255), 2)\n",
    "                cv2.putText(cimg,'GO',(i[0], i[1]), font, 1,(255,0,0),2,cv2.LINE_AA)\n",
    "\n",
    "    if y_circles is not None:\n",
    "        y_circles = np.uint16(np.around(y_circles))\n",
    "\n",
    "        for i in y_circles[0, :]:\n",
    "            if i[0] > size[1] or i[1] > size[0] or i[1] > size[0]*bound:\n",
    "                continue\n",
    "\n",
    "            h, s = 0.0, 0.0\n",
    "            for m in range(-r, r):\n",
    "                for n in range(-r, r):\n",
    "\n",
    "                    if (i[1]+m) >= size[0] or (i[0]+n) >= size[1]:\n",
    "                        continue\n",
    "                    h += masky[i[1]+m, i[0]+n]\n",
    "                    s += 1\n",
    "            if h / s > 50:\n",
    "                cv2.circle(cimg, (i[0], i[1]), i[2]+10, (0, 255, 0), 2)\n",
    "                cv2.circle(masky, (i[0], i[1]), i[2]+30, (255, 255, 255), 2)\n",
    "                cv2.putText(cimg,'WARN',(i[0], i[1]), font, 1,(255,0,0),2,cv2.LINE_AA)\n",
    "\n",
    "    cv2.imshow('detected results', cimg)\n",
    "    cv2.imwrite(path+'//result//'+file, cimg)\n",
    "    # cv2.imshow('maskr', maskr)\n",
    "    # cv2.imshow('maskg', maskg)\n",
    "    # cv2.imshow('masky', masky)\n",
    "\n",
    "    cv2.waitKey(0)\n",
    "    cv2.destroyAllWindows()"
   ]
  },
  {
   "cell_type": "markdown",
   "metadata": {},
   "source": [
    "---------------------------------------------------------"
   ]
  },
  {
   "cell_type": "markdown",
   "metadata": {},
   "source": [
    "# Step 3: Detection & recognition of traffic lights from different scenarios"
   ]
  },
  {
   "cell_type": "code",
   "execution_count": 6,
   "metadata": {},
   "outputs": [
    {
     "name": "stdout",
     "output_type": "stream",
     "text": [
      "1.jpg\n",
      "10.jpg\n",
      "11.jpg\n",
      "15.jpg\n",
      "17.jpg\n",
      "18.jpg\n",
      "2.jpg\n",
      "21.jpg\n",
      "22.jpg\n",
      "23.jpg\n",
      "24.jpg\n",
      "4.jpg\n",
      "5.jpg\n",
      "6.jpg\n",
      "7.jpg\n",
      "IMG_0000.jpg\n",
      "IMG_0227.JPG\n",
      "IMG_0229.JPG\n",
      "IMG_0234.JPG\n",
      "IMG_0236.JPG\n",
      "IMG_0239.JPG\n",
      "IMG_0240.JPG\n",
      "IMG_0254.JPG\n",
      "IMG_0273.JPG\n",
      "IMG_0285.JPG\n",
      "IMG_0316.jpg\n",
      "IMG_0358.jpg\n"
     ]
    }
   ],
   "source": [
    "if __name__ == '__main__':\n",
    "\n",
    "    path = os.path.abspath('..')+'\\\\TrafficLight-Detector-master\\\\light\\\\'\n",
    "    for f in os.listdir(path):\n",
    "        print (f)\n",
    "        if f.endswith('.jpg') or f.endswith('.JPG') or f.endswith('.png') or f.endswith('.PNG'):\n",
    "            # Resizing the Image\n",
    "            detect(path, f)"
   ]
  },
  {
   "cell_type": "markdown",
   "metadata": {},
   "source": [
    "--------------------------------------------"
   ]
  }
 ],
 "metadata": {
  "interpreter": {
   "hash": "e924fbed85befe60b2fb566952981c6f6a88793a6e79df6842152bab019b9915"
  },
  "kernelspec": {
   "display_name": "Python 3.10.4 64-bit",
   "language": "python",
   "name": "python3"
  },
  "language_info": {
   "codemirror_mode": {
    "name": "ipython",
    "version": 3
   },
   "file_extension": ".py",
   "mimetype": "text/x-python",
   "name": "python",
   "nbconvert_exporter": "python",
   "pygments_lexer": "ipython3",
   "version": "3.10.4"
  },
  "orig_nbformat": 4
 },
 "nbformat": 4,
 "nbformat_minor": 2
}
